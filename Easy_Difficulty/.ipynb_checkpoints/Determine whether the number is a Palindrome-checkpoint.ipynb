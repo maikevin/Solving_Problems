{
 "cells": [
  {
   "cell_type": "markdown",
   "metadata": {},
   "source": [
    "## 9. Palindrome Number"
   ]
  },
  {
   "cell_type": "markdown",
   "metadata": {},
   "source": [
    "Given an integer x, return true if x is palindrome integer.\n",
    "\n",
    "An integer is a palindrome when it reads the same backward as forward. For example, 121 is palindrome while 123 is not."
   ]
  },
  {
   "cell_type": "code",
   "execution_count": 98,
   "metadata": {},
   "outputs": [],
   "source": [
    "palindrome_list = [121,13232,132,91023,-938, 10, 0, 1122]\n",
    "single_palindrome = 1221"
   ]
  },
  {
   "cell_type": "code",
   "execution_count": 106,
   "metadata": {},
   "outputs": [
    {
     "name": "stdout",
     "output_type": "stream",
     "text": [
      "121 \t True\n",
      "13232 \t False\n",
      "132 \t False\n",
      "91023 \t False\n",
      "-938 \t False\n",
      "10 \t False\n",
      "0 \t True\n",
      "1122 \t False\n",
      "Program Total RunTime:  0.0009992122650146484\n"
     ]
    }
   ],
   "source": [
    "class Solution:\n",
    "    def isPalindrome(self, x: int) -> bool:\n",
    "        string = str(x)\n",
    "        if string[0] == '-':\n",
    "            string = string[1:]\n",
    "            string = string[::-1]\n",
    "            integer = int(string)\n",
    "            return False\n",
    "        else:\n",
    "            string = string[::-1]\n",
    "            integer = int(string)\n",
    "            if x == integer:\n",
    "                return True\n",
    "            else:\n",
    "                return False\n",
    "            \n",
    "import time\n",
    "start = time.time()\n",
    "\n",
    "solution = Solution()\n",
    "solution.isPalindrome(single_palindrome)\n",
    "for i in palindrome_list:\n",
    "    print(i, \"\\t\", solution.isPalindrome(i))\n",
    "\n",
    "end = time.time()\n",
    "print(\"Program Total RunTime: \", end - start)\n",
    "solution_Time_One = end - start"
   ]
  },
  {
   "cell_type": "markdown",
   "metadata": {},
   "source": [
    "### 10/10/2021:\n",
    "- Success\n",
    "- Runtime: 107 ms, faster than 15.12% of Python3 online submissions for Palindrome Number.\n",
    "- Memory Usage: 14.1 MB, less than 76.49% of Python3 online submissions for Palindrome Number."
   ]
  },
  {
   "cell_type": "markdown",
   "metadata": {},
   "source": [
    "### Solution #2: Revert half the Numbers only - Giving up Attempt to Solution #3"
   ]
  },
  {
   "cell_type": "code",
   "execution_count": 108,
   "metadata": {},
   "outputs": [
    {
     "name": "stdout",
     "output_type": "stream",
     "text": [
      "121 \t True\n",
      "13232 \t False\n",
      "132 \t False\n",
      "91023 \t False\n",
      "-938 \t False\n",
      "10 \t False\n",
      "0 \t False\n",
      "Even: \n",
      "Even: \n",
      "1122 \t True\n"
     ]
    }
   ],
   "source": [
    "import math\n",
    "class Solution_Two:\n",
    "    def isPalindrome(self, x: int) -> bool:\n",
    "        string = str(x)\n",
    "        if string[0] == '-' or len(string) == 0:\n",
    "            return False\n",
    "        else:\n",
    "            string_len = len(string)\n",
    "            if string_len == 2:\n",
    "                return string[0] == string[1]\n",
    "            #even\n",
    "            elif string_len % 2 == 0:\n",
    "                print('Even:', string[:(string_len % 2)])\n",
    "                print('Even:', string[:(string_len % 2):])\n",
    "                return string[:string_len % 2] == string[:string_len % 2:]\n",
    "            #odd\n",
    "            else:\n",
    "                even_len = math.trunc(string_len / 2)\n",
    "                return string[:even_len+1 :] == string[:(even_len-1):-1]\n",
    "            \n",
    "            \n",
    "solution = Solution_Two()\n",
    "for i in palindrome_list:\n",
    "    print(i, \"\\t\", solution.isPalindrome(i))\n"
   ]
  },
  {
   "cell_type": "code",
   "execution_count": 107,
   "metadata": {},
   "outputs": [
    {
     "name": "stdout",
     "output_type": "stream",
     "text": [
      "121 \t True\n",
      "13232 \t False\n",
      "132 \t False\n",
      "91023 \t False\n",
      "-938 \t False\n",
      "10 \t False\n",
      "0 \t True\n",
      "1122 \t False\n"
     ]
    }
   ],
   "source": [
    "class Solution_Three:\n",
    "    def isPalindrome(self, x: int) -> bool:\n",
    "        return str(x) == str(x)[::-1]\n",
    "    \n",
    "solution = Solution_Three()\n",
    "for i in palindrome_list:\n",
    "    print(i, \"\\t\", solution.isPalindrome(i))"
   ]
  },
  {
   "cell_type": "markdown",
   "metadata": {},
   "source": [
    "### 10/10/2021:\n",
    "- Runtime: 52 ms, faster than 91.95% of Python3 online submissions for Palindrome Number.\n",
    "- Memory Usage: 14.4 MB, less than 15.73% of Python3 online submissions for Palindrome Number."
   ]
  }
 ],
 "metadata": {
  "kernelspec": {
   "display_name": "Python 3",
   "language": "python",
   "name": "python3"
  },
  "language_info": {
   "codemirror_mode": {
    "name": "ipython",
    "version": 3
   },
   "file_extension": ".py",
   "mimetype": "text/x-python",
   "name": "python",
   "nbconvert_exporter": "python",
   "pygments_lexer": "ipython3",
   "version": "3.8.3"
  }
 },
 "nbformat": 4,
 "nbformat_minor": 4
}
