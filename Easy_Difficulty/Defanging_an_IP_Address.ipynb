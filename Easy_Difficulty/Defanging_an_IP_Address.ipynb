{
 "cells": [
  {
   "cell_type": "markdown",
   "metadata": {},
   "source": [
    "## Problem Defanging an IP Address\n",
    "#### Given a valid (IPv4) IP address, return a defanged version of that IP address.\n",
    "\n",
    "#### A defanged IP address replaces every period \".\" with \"[.]\".\n",
    "\n",
    "#### Example 1:\n",
    "\n",
    "Input: address = \"1.1.1.1\"\n",
    "Output: \"1[.]1[.]1[.]1\"\n",
    "Example 2:\n",
    "\n",
    "Input: address = \"255.100.50.0\"\n",
    "Output: \"255[.]100[.]50[.]0\"\n",
    " \n",
    "\n",
    "Constraints:\n",
    "\n",
    "The given address is a valid IPv4 address."
   ]
  },
  {
   "cell_type": "code",
   "execution_count": 23,
   "metadata": {},
   "outputs": [],
   "source": [
    "\"\"\"class Solution:\n",
    "    def defangIPaddr(self, address: str) -> str:\n",
    "\"\"\"\n",
    "import time"
   ]
  },
  {
   "cell_type": "code",
   "execution_count": 24,
   "metadata": {},
   "outputs": [],
   "source": [
    "#Strategy #1 Using built-in function .replace()\n",
    "class Solution:\n",
    "    def defangIPaddr(self, address: str) -> str:\n",
    "        newString = address.replace('.','[.]')\n",
    "        return newString"
   ]
  },
  {
   "cell_type": "code",
   "execution_count": 28,
   "metadata": {},
   "outputs": [
    {
     "name": "stdout",
     "output_type": "stream",
     "text": [
      "1.1.1.1 -> 1[.]1[.]1[.]1\n",
      "255.100.50.0 -> 255[.]100[.]50[.]0\n",
      "Program Total RunTime:  0.0010254383087158203\n"
     ]
    }
   ],
   "source": [
    "start = time.time()\n",
    "\n",
    "address_One = \"255.100.50.0\"\n",
    "address_Two = \"1.1.1.1\"\n",
    "\n",
    "solution = Solution()\n",
    "print(address_Two, \"->\", solution.defangIPaddr(\"1.1.1.1\"))\n",
    "print(address_One, \"->\", solution.defangIPaddr(\"255.100.50.0\"))\n",
    "\n",
    "end = time.time()\n",
    "print(\"Program Total RunTime: \", end - start)\n",
    "solution_Time_One = end - start"
   ]
  },
  {
   "cell_type": "code",
   "execution_count": 26,
   "metadata": {},
   "outputs": [],
   "source": [
    "#Strategy #2 Using built-in operator \"+\"\n",
    "class Solution_Two:\n",
    "    def defangIPaddr(self, address: str) -> str:\n",
    "        string = \"\"\n",
    "        for i in address:\n",
    "            if i == \".\":\n",
    "                string += \"[.]\"\n",
    "            else:\n",
    "                string += i\n",
    "        return string"
   ]
  },
  {
   "cell_type": "code",
   "execution_count": 29,
   "metadata": {},
   "outputs": [
    {
     "name": "stdout",
     "output_type": "stream",
     "text": [
      "1.1.1.1 -> 1[.]1[.]1[.]1\n",
      "255.100.50.0 -> 255[.]100[.]50[.]0\n",
      "Program Total RunTime:  0.000997304916381836\n"
     ]
    }
   ],
   "source": [
    "start = time.time()\n",
    "\n",
    "address_One = \"255.100.50.0\"\n",
    "address_Two = \"1.1.1.1\"\n",
    "\n",
    "solution_Two = Solution_Two()\n",
    "print(address_Two, \"->\", solution_Two.defangIPaddr(\"1.1.1.1\"))\n",
    "print(address_One, \"->\", solution_Two.defangIPaddr(\"255.100.50.0\"))\n",
    "\n",
    "end = time.time()\n",
    "print(\"Program Total RunTime: \", end - start)\n",
    "solution_Time_Two = end - start"
   ]
  },
  {
   "cell_type": "code",
   "execution_count": 38,
   "metadata": {},
   "outputs": [
    {
     "name": "stdout",
     "output_type": "stream",
     "text": [
      "Solution_2: 2.7435480120902156 % faster\n"
     ]
    }
   ],
   "source": [
    "print(\"Solution_2:\", abs(solution_Time_Two/solution_Time_One * 100 - 100), \"% faster\")"
   ]
  }
 ],
 "metadata": {
  "kernelspec": {
   "display_name": "Python 3",
   "language": "python",
   "name": "python3"
  },
  "language_info": {
   "codemirror_mode": {
    "name": "ipython",
    "version": 3
   },
   "file_extension": ".py",
   "mimetype": "text/x-python",
   "name": "python",
   "nbconvert_exporter": "python",
   "pygments_lexer": "ipython3",
   "version": "3.7.4"
  }
 },
 "nbformat": 4,
 "nbformat_minor": 4
}
