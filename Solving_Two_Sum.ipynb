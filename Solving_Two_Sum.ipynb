{
 "cells": [
  {
   "cell_type": "markdown",
   "metadata": {},
   "source": [
    "# Problem: Two Sum\n",
    "#### Given an array of integers, return indices of the two numbers such that they add up to a specific target.\n",
    "\n",
    "You may assume that each input would have exactly one solution, and you may not use the same element twice.\n",
    "\n",
    "### Example:\n",
    "\n",
    "Given nums = [2, 7, 11, 15], target = 9,\n",
    "\n",
    "Because nums[0] + nums[1] = 2 + 7 = 9,\n",
    "return [0, 1]."
   ]
  },
  {
   "cell_type": "code",
   "execution_count": 24,
   "metadata": {},
   "outputs": [],
   "source": [
    "#class Solution:\n",
    "#    def twoSum(self, nums: List[int], target: int) -> List[int]:"
   ]
  },
  {
   "cell_type": "code",
   "execution_count": 25,
   "metadata": {},
   "outputs": [],
   "source": [
    "class Solution:\n",
    "    def twoSum(self, nums, target):\n",
    "        dict_nums = dict()\n",
    "        for index, value in enumerate(nums):\n",
    "            remainder = target - value\n",
    "            print(\"index:\", index, \"@ value:\", value, \"remainder:\", remainder)\n",
    "            if remainder in dict_nums:\n",
    "                return [dict_nums[remainder], index]\n",
    "            dict_nums[value] = index"
   ]
  },
  {
   "cell_type": "code",
   "execution_count": 23,
   "metadata": {},
   "outputs": [
    {
     "name": "stdout",
     "output_type": "stream",
     "text": [
      "index: 0 @ value: 2 remainder: 7\n",
      "index: 1 @ value: 7 remainder: 2\n"
     ]
    },
    {
     "data": {
      "text/plain": [
       "[0, 1]"
      ]
     },
     "execution_count": 23,
     "metadata": {},
     "output_type": "execute_result"
    }
   ],
   "source": [
    "list_1 = [2,7,11,15]\n",
    "target_1 = 9\n",
    "solution = Solution()\n",
    "solution.twoSum(list_1, target_1)"
   ]
  },
  {
   "cell_type": "code",
   "execution_count": 18,
   "metadata": {},
   "outputs": [
    {
     "name": "stdout",
     "output_type": "stream",
     "text": [
      "index: 0 @ value: 3 remainder: 6\n",
      "index: 1 @ value: 4 remainder: 5\n",
      "index: 2 @ value: 6 remainder: 3\n",
      "reminder (T/F): 3\n"
     ]
    },
    {
     "data": {
      "text/plain": [
       "[0, 2]"
      ]
     },
     "execution_count": 18,
     "metadata": {},
     "output_type": "execute_result"
    }
   ],
   "source": [
    "list_1 = [3,4,6]\n",
    "target_1 = 9\n",
    "solution = Solution()\n",
    "solution.twoSum(list_1, target_1)"
   ]
  },
  {
   "cell_type": "markdown",
   "metadata": {},
   "source": [
    "Intuitively, two loops could be used. However, there is a problem with O(n^2) where computations would be too long or could be long.\n",
    "\n",
    "Using python strength in dictionaries, you can iterate through the given list and add values to the dictionary until a result achieves the goal.\n",
    "\n",
    "The strength of the code above is that it accounts for any value that may be duplicate or same place in the list (4 + 4 if target = 8) or if one is at the end or beginning of the loop (list of 3...10 and target is 13)\n",
    "\n",
    "Instead of matching two numbers or selecting two numbers everytime. Rather, iterate through each number, subtract it from the target, and see whether it matches with the previous, current numbers. If not, add that number to a dictionary to repeat the process with the next number. Therefore, we avoid using two loops, avoiding \"Double O Notation\".\n"
   ]
  }
 ],
 "metadata": {
  "kernelspec": {
   "display_name": "Python 3",
   "language": "python",
   "name": "python3"
  },
  "language_info": {
   "codemirror_mode": {
    "name": "ipython",
    "version": 3
   },
   "file_extension": ".py",
   "mimetype": "text/x-python",
   "name": "python",
   "nbconvert_exporter": "python",
   "pygments_lexer": "ipython3",
   "version": "3.7.4"
  }
 },
 "nbformat": 4,
 "nbformat_minor": 4
}
